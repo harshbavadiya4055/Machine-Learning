{
 "cells": [
  {
   "cell_type": "code",
   "execution_count": 1,
   "id": "479bdf52",
   "metadata": {},
   "outputs": [],
   "source": [
    "import numpy as np"
   ]
  },
  {
   "cell_type": "code",
   "execution_count": 4,
   "id": "3f29e700",
   "metadata": {},
   "outputs": [
    {
     "name": "stdout",
     "output_type": "stream",
     "text": [
      "[1 2 3 4 5 6]\n",
      "[[1 2 3]\n",
      " [4 5 6]]\n"
     ]
    }
   ],
   "source": [
    "a=np.array([1,2,3,4,5,6])               # create array\n",
    "b=np.array([[1,2,3],[4,5,6]])\n",
    "print(a)\n",
    "print(b)"
   ]
  },
  {
   "cell_type": "code",
   "execution_count": 5,
   "id": "842af1ed",
   "metadata": {},
   "outputs": [
    {
     "name": "stdout",
     "output_type": "stream",
     "text": [
      "21\n"
     ]
    }
   ],
   "source": [
    "a=np.array([[1,2,3],[4,5,6]])          # sum to array\n",
    "print(a.sum())"
   ]
  },
  {
   "cell_type": "code",
   "execution_count": 6,
   "id": "5f2520a6",
   "metadata": {},
   "outputs": [
    {
     "name": "stdout",
     "output_type": "stream",
     "text": [
      "[[19 22]\n",
      " [43 50]]\n"
     ]
    }
   ],
   "source": [
    "a=[[1,2],[3,4]]      #mutiplication to 2 array\n",
    "b=[[5,6],[7,8]]\n",
    "mul=np.dot(a,b)\n",
    "print(mul)"
   ]
  },
  {
   "cell_type": "code",
   "execution_count": 7,
   "id": "b7064ce0",
   "metadata": {},
   "outputs": [
    {
     "name": "stdout",
     "output_type": "stream",
     "text": [
      "addition :\n",
      "[[ 5  7]\n",
      " [ 8 10]]\n"
     ]
    }
   ],
   "source": [
    "A = [[1, 2], [2, 3]]         # additon into 2 array\n",
    "B = [[4, 5], [6, 7]]\n",
    "ad=np.add(A,B)\n",
    "print(\"addition :\")\n",
    "print(ad)"
   ]
  },
  {
   "cell_type": "code",
   "execution_count": 8,
   "id": "a6193f5e",
   "metadata": {},
   "outputs": [
    {
     "name": "stdout",
     "output_type": "stream",
     "text": [
      "shape of a (2, 3)\n"
     ]
    }
   ],
   "source": [
    "a=np.array([[1,2,3],[4,5,6]])                # format to array\n",
    "print(\"shape of a {}\".format(a.shape))"
   ]
  },
  {
   "cell_type": "code",
   "execution_count": 9,
   "id": "42b6d422",
   "metadata": {},
   "outputs": [
    {
     "name": "stdout",
     "output_type": "stream",
     "text": [
      "ndim 2\n"
     ]
    }
   ],
   "source": [
    "a=np.array([[1,2,3],[4,5,6]])                  # ndim\n",
    "print(\"ndim {}\".format(a.ndim))"
   ]
  },
  {
   "cell_type": "code",
   "execution_count": 11,
   "id": "3c3edeb7",
   "metadata": {},
   "outputs": [
    {
     "name": "stdout",
     "output_type": "stream",
     "text": [
      "size 9\n"
     ]
    }
   ],
   "source": [
    "a=np.array([[1,2,3],[4,5,6],[4,5,6]])       # array size\n",
    "print(\"size {}\".format(a.size))"
   ]
  },
  {
   "cell_type": "code",
   "execution_count": 12,
   "id": "4460f3f1",
   "metadata": {},
   "outputs": [
    {
     "name": "stdout",
     "output_type": "stream",
     "text": [
      "dtype int64\n"
     ]
    }
   ],
   "source": [
    "a=np.array([[1,2,3],[4,5,6]])           # data type array\n",
    "print(\"dtype {}\".format(a.dtype))"
   ]
  },
  {
   "cell_type": "code",
   "execution_count": 13,
   "id": "8b82f528",
   "metadata": {},
   "outputs": [
    {
     "name": "stdout",
     "output_type": "stream",
     "text": [
      "itemsize 8\n"
     ]
    }
   ],
   "source": [
    "a=np.array([[1,2,3],[4,5,6]])       # item size\n",
    "print(\"itemsize {}\".format(a.itemsize))"
   ]
  },
  {
   "cell_type": "code",
   "execution_count": 14,
   "id": "8ed9446c",
   "metadata": {},
   "outputs": [
    {
     "name": "stdout",
     "output_type": "stream",
     "text": [
      "data <memory at 0x7fd07c73b1e0>\n"
     ]
    }
   ],
   "source": [
    "a=np.array([[1,2,3],[4,5,6]])           # data memory\n",
    "print(\"data {}\".format(a.data))"
   ]
  },
  {
   "cell_type": "code",
   "execution_count": 16,
   "id": "e295d824",
   "metadata": {},
   "outputs": [
    {
     "name": "stdout",
     "output_type": "stream",
     "text": [
      "[[1 2 3]\n",
      " [4 5 6]]\n"
     ]
    }
   ],
   "source": [
    "a=np.array([1,2,3,4,5,6])           # reshape to 2 row and 3 column\n",
    "re=a.reshape(2,3)\n",
    "print(re)\n",
    "\n"
   ]
  },
  {
   "cell_type": "code",
   "execution_count": 17,
   "id": "8e5ff7fa",
   "metadata": {},
   "outputs": [
    {
     "name": "stdout",
     "output_type": "stream",
     "text": [
      "maximum is  6\n"
     ]
    }
   ],
   "source": [
    "a=np.array([1,2,3,4,5,6])         # maximum number array\n",
    "print(\"maximum is \",a.max())"
   ]
  },
  {
   "cell_type": "code",
   "execution_count": 18,
   "id": "6baddeb7",
   "metadata": {},
   "outputs": [
    {
     "name": "stdout",
     "output_type": "stream",
     "text": [
      "minimum is  1\n"
     ]
    }
   ],
   "source": [
    "a=np.array([1,2,3,4,5,6])           # minimum number array\n",
    "print(\"minimum is \",a.min())"
   ]
  },
  {
   "cell_type": "code",
   "execution_count": 19,
   "id": "555706f0",
   "metadata": {},
   "outputs": [
    {
     "name": "stdout",
     "output_type": "stream",
     "text": [
      "maximum is  [3 6]\n"
     ]
    }
   ],
   "source": [
    "re=np.array([[1,2,3],[4,5,6]])               # maximum number to 2 array\n",
    "print(\"maximum is \",re.max(axis=1))"
   ]
  },
  {
   "cell_type": "code",
   "execution_count": 21,
   "id": "78a74e97",
   "metadata": {},
   "outputs": [
    {
     "name": "stdout",
     "output_type": "stream",
     "text": [
      "maximum is  [1 2 3]\n"
     ]
    }
   ],
   "source": [
    "re=np.array([[1,2,3],[4,5,6]])               # minimum number to 2 array\n",
    "print(\"maximum is \",re.min(axis=0))"
   ]
  },
  {
   "cell_type": "code",
   "execution_count": 22,
   "id": "b2ca7f28",
   "metadata": {},
   "outputs": [
    {
     "name": "stdout",
     "output_type": "stream",
     "text": [
      "[[1. 2. 3.]\n",
      " [4. 5. 6.]]\n"
     ]
    }
   ],
   "source": [
    "re=np.array([[1,4,9],[16,25,36]])           # squareroot of array value\n",
    "print(np.sqrt(re))"
   ]
  },
  {
   "cell_type": "code",
   "execution_count": 23,
   "id": "f27b87a9",
   "metadata": {},
   "outputs": [
    {
     "name": "stdout",
     "output_type": "stream",
     "text": [
      "standard deviation  12.212243401148248\n"
     ]
    }
   ],
   "source": [
    "re=np.array([[1,4,9],[16,25,36]])            # standard deviation of array value\n",
    "print(\"standard deviation \",np.std(re))"
   ]
  },
  {
   "cell_type": "code",
   "execution_count": 25,
   "id": "59bff067",
   "metadata": {},
   "outputs": [
    {
     "name": "stdout",
     "output_type": "stream",
     "text": [
      "vertical :\n",
      "[[1 2]\n",
      " [4 5]\n",
      " [8 7]\n",
      " [5 4]]\n"
     ]
    }
   ],
   "source": [
    "a=np.array([[1,2],[4,5]])     # print two array in vertically format\n",
    "b=np.array([[8,7],[5,4]])\n",
    "v=np.vstack((a,b))\n",
    "print(\"vertical :\")\n",
    "print(v)"
   ]
  },
  {
   "cell_type": "code",
   "execution_count": 26,
   "id": "3faee3bc",
   "metadata": {},
   "outputs": [
    {
     "name": "stdout",
     "output_type": "stream",
     "text": [
      "horizontal :\n",
      "[[1 2 8 7]\n",
      " [4 5 5 4]]\n"
     ]
    }
   ],
   "source": [
    "a=np.array([[1,2],[4,5]])           # print two array in horizontally format\n",
    "b=np.array([[8,7],[5,4]])\n",
    "h=np.hstack((a,b))\n",
    "print(\"horizontal :\")\n",
    "print(h)"
   ]
  },
  {
   "cell_type": "code",
   "execution_count": 28,
   "id": "c70d6c51",
   "metadata": {},
   "outputs": [
    {
     "name": "stdout",
     "output_type": "stream",
     "text": [
      "[ 0  2  4  6  8 10 12 14 16 18 20]\n"
     ]
    }
   ],
   "source": [
    "a=np.arange(0,20,2)            # print even number \n",
    "print(a)"
   ]
  },
  {
   "cell_type": "code",
   "execution_count": 29,
   "id": "766bd463",
   "metadata": {},
   "outputs": [
    {
     "name": "stdout",
     "output_type": "stream",
     "text": [
      "[ 0.  2.  4.  6.  8. 10. 12. 14. 16. 18. 20.]\n",
      "data type:  float64\n"
     ]
    }
   ],
   "source": [
    "a=np.linspace(0,20,11)      # space in your array\n",
    "print(a)\n",
    "print(\"data type: \",a.dtype)"
   ]
  },
  {
   "cell_type": "code",
   "execution_count": 30,
   "id": "9167ee2d",
   "metadata": {},
   "outputs": [
    {
     "name": "stdout",
     "output_type": "stream",
     "text": [
      "[[1 4]\n",
      " [2 5]\n",
      " [8 5]\n",
      " [7 4]]\n"
     ]
    }
   ],
   "source": [
    "a=np.array([[1,2],[4,5]])       \n",
    "b=np.array([[8,7],[5,4]])\n",
    "h=np.hstack((a,b))\n",
    "ht=h.T         # convert into Row to Column and Column to Row\n",
    "print(ht)"
   ]
  },
  {
   "cell_type": "code",
   "execution_count": 31,
   "id": "6af22da3",
   "metadata": {},
   "outputs": [
    {
     "name": "stdout",
     "output_type": "stream",
     "text": [
      "ele : 1\n",
      "ele : 2\n",
      "ele : 8\n",
      "ele : 7\n",
      "ele : 4\n",
      "ele : 5\n",
      "ele : 5\n",
      "ele : 4\n"
     ]
    }
   ],
   "source": [
    "for i in np.nditer(ht):            # show each elemnent or value\n",
    "    print(\"ele :\",i)"
   ]
  },
  {
   "cell_type": "code",
   "execution_count": 32,
   "id": "79739319",
   "metadata": {},
   "outputs": [
    {
     "name": "stdout",
     "output_type": "stream",
     "text": [
      "[array([[1, 2],\n",
      "       [4, 5]]), array([[8, 7],\n",
      "       [5, 4]])]\n"
     ]
    }
   ],
   "source": [
    "a=np.array([[1,2],[4,5]])\n",
    "b=np.array([[8,7],[5,4]])\n",
    "h=np.hstack((a,b))\n",
    "h1=np.hsplit(h,2)       # split into horizontally format\n",
    "print(h1)"
   ]
  },
  {
   "cell_type": "code",
   "execution_count": 33,
   "id": "a04d0796",
   "metadata": {},
   "outputs": [
    {
     "name": "stdout",
     "output_type": "stream",
     "text": [
      "[array([[1, 2],\n",
      "       [4, 5]]), array([[8, 7],\n",
      "       [5, 4]])]\n"
     ]
    }
   ],
   "source": [
    "a=np.array([[1,2],[4,5]])\n",
    "b=np.array([[8,7],[5,4]])\n",
    "h=np.vstack((a,b))\n",
    "h1=np.vsplit(h,2)        # split into vertically format\n",
    "print(h1)"
   ]
  },
  {
   "cell_type": "code",
   "execution_count": 34,
   "id": "5aa7bf82",
   "metadata": {},
   "outputs": [
    {
     "name": "stdout",
     "output_type": "stream",
     "text": [
      "3.0\n"
     ]
    }
   ],
   "source": [
    "from scipy import stats as st     # specify for the mean\n",
    "a1=np.mean(a)\n",
    "print(a1)"
   ]
  },
  {
   "cell_type": "code",
   "execution_count": 35,
   "id": "ba828260",
   "metadata": {},
   "outputs": [
    {
     "name": "stdout",
     "output_type": "stream",
     "text": [
      "3.0\n"
     ]
    }
   ],
   "source": [
    "from scipy import stats as st     # specify for the median\n",
    "a1=np.median(a)\n",
    "print(a1)"
   ]
  },
  {
   "cell_type": "code",
   "execution_count": 36,
   "id": "3334496d",
   "metadata": {},
   "outputs": [
    {
     "name": "stdout",
     "output_type": "stream",
     "text": [
      "ModeResult(mode=array([[1, 2]]), count=array([[1, 1]]))\n"
     ]
    }
   ],
   "source": [
    "from scipy import stats as st     # specify for the mode\n",
    "a1=st.mode(a)\n",
    "print(a1)"
   ]
  },
  {
   "cell_type": "code",
   "execution_count": null,
   "id": "9862cdca",
   "metadata": {},
   "outputs": [],
   "source": []
  },
  {
   "cell_type": "code",
   "execution_count": null,
   "id": "81691b5b",
   "metadata": {},
   "outputs": [],
   "source": []
  },
  {
   "cell_type": "code",
   "execution_count": null,
   "id": "3e628fcb",
   "metadata": {},
   "outputs": [],
   "source": []
  },
  {
   "cell_type": "code",
   "execution_count": null,
   "id": "07ff53a0",
   "metadata": {},
   "outputs": [],
   "source": []
  },
  {
   "cell_type": "code",
   "execution_count": null,
   "id": "5adf824a",
   "metadata": {},
   "outputs": [],
   "source": []
  },
  {
   "cell_type": "code",
   "execution_count": null,
   "id": "3a8c55d5",
   "metadata": {},
   "outputs": [],
   "source": []
  }
 ],
 "metadata": {
  "kernelspec": {
   "display_name": "Python 3 (ipykernel)",
   "language": "python",
   "name": "python3"
  },
  "language_info": {
   "codemirror_mode": {
    "name": "ipython",
    "version": 3
   },
   "file_extension": ".py",
   "mimetype": "text/x-python",
   "name": "python",
   "nbconvert_exporter": "python",
   "pygments_lexer": "ipython3",
   "version": "3.9.12"
  }
 },
 "nbformat": 4,
 "nbformat_minor": 5
}

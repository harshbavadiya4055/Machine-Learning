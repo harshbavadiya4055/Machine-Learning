{
 "cells": [
  {
   "cell_type": "code",
   "execution_count": 1,
   "id": "95c0245f",
   "metadata": {},
   "outputs": [],
   "source": [
    "import numpy as np\n",
    "import matplotlib.pyplot as plt\n",
    "import pandas as pd\n",
    "from sklearn import linear_model    # need only linear model."
   ]
  },
  {
   "cell_type": "code",
   "execution_count": 15,
   "id": "31591409",
   "metadata": {},
   "outputs": [
    {
     "name": "stdout",
     "output_type": "stream",
     "text": [
      "   area     price\n",
      "0  1200   3000000\n",
      "1  2500   6200000\n",
      "2  5000  12400000\n",
      "3  1000   2500000\n",
      "4  3500   7500000\n"
     ]
    }
   ],
   "source": [
    "data=pd.read_csv('area_price.csv')\n",
    "print(data)"
   ]
  },
  {
   "cell_type": "code",
   "execution_count": 17,
   "id": "90fcdf9e",
   "metadata": {},
   "outputs": [
    {
     "data": {
      "text/plain": [
       "LinearRegression()"
      ]
     },
     "execution_count": 17,
     "metadata": {},
     "output_type": "execute_result"
    }
   ],
   "source": [
    "regression=linear_model.LinearRegression()\n",
    "regression.fit(data[['area']],data.price)       # implement to linear_regression  "
   ]
  },
  {
   "cell_type": "code",
   "execution_count": 18,
   "id": "86dd3ea7",
   "metadata": {},
   "outputs": [
    {
     "data": {
      "text/plain": [
       "<matplotlib.collections.PathCollection at 0x7ff30058d520>"
      ]
     },
     "execution_count": 18,
     "metadata": {},
     "output_type": "execute_result"
    },
    {
     "data": {
      "image/png": "[encoded data removed]",
      "text/plain": [
       "<Figure size 432x288 with 1 Axes>"
      ]
     },
     "metadata": {
      "needs_background": "light"
     },
     "output_type": "display_data"
    }
   ],
   "source": [
    "plt.scatter(data['area'],data['price'])"
   ]
  },
  {
   "cell_type": "raw",
   "id": "50242705",
   "metadata": {},
   "source": []
  },
  {
   "cell_type": "code",
   "execution_count": 14,
   "id": "a5a52335",
   "metadata": {},
   "outputs": [
    {
     "name": "stderr",
     "output_type": "stream",
     "text": [
      "/opt/anaconda3/lib/python3.9/site-packages/sklearn/base.py:450: UserWarning: X does not have valid feature names, but LinearRegression was fitted with feature names\n",
      "  warnings.warn(\n"
     ]
    },
    {
     "data": {
      "text/plain": [
       "array([9560115.3984854])"
      ]
     },
     "execution_count": 14,
     "metadata": {},
     "output_type": "execute_result"
    }
   ],
   "source": [
    "regression.predict([[4000]])             # predict to area and price tom find avg"
   ]
  },
  {
   "cell_type": "code",
   "execution_count": 19,
   "id": "78bf7322",
   "metadata": {},
   "outputs": [
    {
     "data": {
      "text/plain": [
       "array([2382.437793])"
      ]
     },
     "execution_count": 19,
     "metadata": {},
     "output_type": "execute_result"
    }
   ],
   "source": [
    "regression.coef_"
   ]
  },
  {
   "cell_type": "code",
   "execution_count": 20,
   "id": "700a2b46",
   "metadata": {},
   "outputs": [
    {
     "data": {
      "text/plain": [
       "30364.226469526067"
      ]
     },
     "execution_count": 20,
     "metadata": {},
     "output_type": "execute_result"
    }
   ],
   "source": [
    "regression.intercept_"
   ]
  },
  {
   "cell_type": "code",
   "execution_count": 21,
   "id": "936aa983",
   "metadata": {},
   "outputs": [
    {
     "name": "stdout",
     "output_type": "stream",
     "text": [
      "[95327875.94662823]\n"
     ]
    }
   ],
   "source": [
    "li=(regression.coef_*40000)+regression.intercept_     # coef_= co efficent,intercept(internal variable)\n",
    "print(li)"
   ]
  },
  {
   "cell_type": "code",
   "execution_count": 22,
   "id": "d82bc47c",
   "metadata": {},
   "outputs": [
    {
     "name": "stdout",
     "output_type": "stream",
     "text": [
      "   area  location     price\n",
      "0  1200         5   3000000\n",
      "1  2500         5   6200000\n",
      "2  5000         5  12400000\n",
      "3  1000         5   2500000\n",
      "4  3500         5   7500000\n",
      "5  1200        10   3500000\n",
      "6  2500        10   6400000\n",
      "7  5000        10  13000000\n",
      "8  1000        10   3000000\n",
      "9  3500        10   8000000\n"
     ]
    }
   ],
   "source": [
    "data2=pd.read_csv('area_price.csv')\n",
    "print(data2)"
   ]
  },
  {
   "cell_type": "code",
   "execution_count": 23,
   "id": "6ad548d2",
   "metadata": {},
   "outputs": [
    {
     "data": {
      "text/plain": [
       "LinearRegression()"
      ]
     },
     "execution_count": 23,
     "metadata": {},
     "output_type": "execute_result"
    }
   ],
   "source": [
    "regression=linear_model.LinearRegression()\n",
    "regression.fit(data2[['area','location']],data2.price) "
   ]
  },
  {
   "cell_type": "code",
   "execution_count": 24,
   "id": "fec1ca67",
   "metadata": {},
   "outputs": [
    {
     "name": "stderr",
     "output_type": "stream",
     "text": [
      "/opt/anaconda3/lib/python3.9/site-packages/sklearn/base.py:450: UserWarning: X does not have valid feature names, but LinearRegression was fitted with feature names\n",
      "  warnings.warn(\n"
     ]
    },
    {
     "data": {
      "text/plain": [
       "array([11972127.65957447])"
      ]
     },
     "execution_count": 24,
     "metadata": {},
     "output_type": "execute_result"
    }
   ],
   "source": [
    "regression.predict([[5000,5]])"
   ]
  },
  {
   "cell_type": "code",
   "execution_count": 25,
   "id": "a363fca3",
   "metadata": {},
   "outputs": [
    {
     "name": "stderr",
     "output_type": "stream",
     "text": [
      "/opt/anaconda3/lib/python3.9/site-packages/sklearn/base.py:450: UserWarning: X does not have valid feature names, but LinearRegression was fitted with feature names\n",
      "  warnings.warn(\n"
     ]
    },
    {
     "data": {
      "text/plain": [
       "array([ 4787219.61774252,  8839673.63865849, 11972127.65957447,\n",
       "       14827097.00685178,  5984704.29138118])"
      ]
     },
     "execution_count": 25,
     "metadata": {},
     "output_type": "execute_result"
    }
   ],
   "source": [
    "n=np.array([[2000,5],[3500,10],[5000,5],[6000,10],[2500,5]])\n",
    "regression.predict(n)"
   ]
  },
  {
   "cell_type": "code",
   "execution_count": null,
   "id": "f3a163cc",
   "metadata": {},
   "outputs": [],
   "source": []
  }
 ],
 "metadata": {
  "kernelspec": {
   "display_name": "Python 3 (ipykernel)",
   "language": "python",
   "name": "python3"
  },
  "language_info": {
   "codemirror_mode": {
    "name": "ipython",
    "version": 3
   },
   "file_extension": ".py",
   "mimetype": "text/x-python",
   "name": "python",
   "nbconvert_exporter": "python",
   "pygments_lexer": "ipython3",
   "version": "3.9.12"
  }
 },
 "nbformat": 4,
 "nbformat_minor": 5
}

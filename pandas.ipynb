{
 "cells": [
  {
   "cell_type": "code",
   "execution_count": 1,
   "id": "d60400d0",
   "metadata": {},
   "outputs": [],
   "source": [
    "import pandas as pd"
   ]
  },
  {
   "cell_type": "code",
   "execution_count": 3,
   "id": "b352aa21",
   "metadata": {},
   "outputs": [
    {
     "name": "stdout",
     "output_type": "stream",
     "text": [
      "   student  addmission\n",
      "0    harsh        2022\n",
      "1    kevin        2023\n",
      "2  avinash        2024\n"
     ]
    }
   ],
   "source": [
    "dataset={'student':['harsh','kevin','avinash'],  # create dataset\n",
    "        'addmission':[2022,2023,2024]}\n",
    "    \n",
    "demo=pd.DataFrame(dataset)  # table format use dataframe\n",
    "print(demo)"
   ]
  },
  {
   "cell_type": "code",
   "execution_count": 4,
   "id": "10dae1f6",
   "metadata": {},
   "outputs": [
    {
     "name": "stdout",
     "output_type": "stream",
     "text": [
      "1.4.2\n"
     ]
    }
   ],
   "source": [
    "print(pd.__version__)"
   ]
  },
  {
   "cell_type": "code",
   "execution_count": 5,
   "id": "3912fc11",
   "metadata": {},
   "outputs": [
    {
     "name": "stdout",
     "output_type": "stream",
     "text": [
      "0    10\n",
      "1    20\n",
      "2    30\n",
      "3    40\n",
      "dtype: int64\n"
     ]
    }
   ],
   "source": [
    "a=[10,20,30,40]\n",
    "demo1=pd.Series(a)   # create single row\n",
    "print(demo1)"
   ]
  },
  {
   "cell_type": "code",
   "execution_count": 9,
   "id": "d9b32c64",
   "metadata": {},
   "outputs": [
    {
     "name": "stdout",
     "output_type": "stream",
     "text": [
      "m1    10\n",
      "m2    20\n",
      "m3    30\n",
      "m4    40\n",
      "dtype: int64\n"
     ]
    }
   ],
   "source": [
    "demo2=pd.Series(a,index=[\"m1\",\"m2\",\"m3\",\"m4\"])\n",
    "print(demo2)"
   ]
  },
  {
   "cell_type": "code",
   "execution_count": 10,
   "id": "64a4fa04",
   "metadata": {},
   "outputs": [
    {
     "name": "stdout",
     "output_type": "stream",
     "text": [
      "30\n"
     ]
    }
   ],
   "source": [
    "demo2=pd.Series(a,index=[\"m1\",\"m2\",\"m3\",\"m4\"])  # create index and print\n",
    "print(demo2[\"m3\"])"
   ]
  },
  {
   "cell_type": "code",
   "execution_count": 11,
   "id": "55c6dc20",
   "metadata": {},
   "outputs": [
    {
     "name": "stdout",
     "output_type": "stream",
     "text": [
      "abc    222\n",
      "xyz    333\n",
      "mnp    444\n",
      "dtype: int64\n"
     ]
    }
   ],
   "source": [
    "marks={\"abc\":222,\"xyz\":333,\"mnp\":444}\n",
    "demo2=pd.Series(marks)\n",
    "print(demo2)"
   ]
  },
  {
   "cell_type": "code",
   "execution_count": 12,
   "id": "0cb7ea78",
   "metadata": {},
   "outputs": [
    {
     "name": "stdout",
     "output_type": "stream",
     "text": [
      "222\n"
     ]
    }
   ],
   "source": [
    "marks={\"abc\":222,\"xyz\":333,\"mnp\":444}  # create key-value pair and print\n",
    "demo2=pd.Series(marks)\n",
    "print(demo2[\"abc\"])     # specific print"
   ]
  },
  {
   "cell_type": "code",
   "execution_count": 19,
   "id": "6d13d468",
   "metadata": {},
   "outputs": [
    {
     "name": "stdout",
     "output_type": "stream",
     "text": [
      "abc    222\n",
      "xyz    333\n",
      "dtype: int64\n"
     ]
    }
   ],
   "source": [
    "demo2=pd.Series(marks,index=[\"abc\",\"xyz\"])  # print index \n",
    "print(demo2)"
   ]
  },
  {
   "cell_type": "code",
   "execution_count": 20,
   "id": "fe3f0bea",
   "metadata": {},
   "outputs": [
    {
     "name": "stdout",
     "output_type": "stream",
     "text": [
      "     product  price\n",
      "0      pizza    100\n",
      "1  chocalate     20\n",
      "2     burger     30\n"
     ]
    }
   ],
   "source": [
    "data={\"product\":[\"pizza\",\"chocalate\",\"burger\"],\n",
    "     \"price\":[100,20,30]}\n",
    "demo2=pd.DataFrame(data)\n",
    "print(demo2)"
   ]
  },
  {
   "cell_type": "code",
   "execution_count": 21,
   "id": "0570f73f",
   "metadata": {},
   "outputs": [
    {
     "name": "stdout",
     "output_type": "stream",
     "text": [
      "product    chocalate\n",
      "price             20\n",
      "Name: 1, dtype: object\n"
     ]
    }
   ],
   "source": [
    "print(demo2.loc[1])   # print location"
   ]
  },
  {
   "cell_type": "code",
   "execution_count": 30,
   "id": "09fba091",
   "metadata": {},
   "outputs": [
    {
     "name": "stdout",
     "output_type": "stream",
     "text": [
      "   roll no     name  total  obtain\n",
      "0        1    harsh    500   490.0\n",
      "1        2      NaN    500   400.0\n",
      "2        3    kevin    500   450.0\n",
      "3        4  avinash    500   460.0\n",
      "4        5    keyur    500   489.0\n",
      "5        6    paras    500   399.0\n",
      "6        7    arjun    500     NaN\n"
     ]
    }
   ],
   "source": [
    "stmark=pd.read_csv('demo.csv')   # create csv file and print\n",
    "print(stmark)"
   ]
  },
  {
   "cell_type": "code",
   "execution_count": 23,
   "id": "84f7b015",
   "metadata": {},
   "outputs": [
    {
     "name": "stdout",
     "output_type": "stream",
     "text": [
      "60\n"
     ]
    }
   ],
   "source": [
    "print(pd.options.display.max_rows)  # display to max rows"
   ]
  },
  {
   "cell_type": "code",
   "execution_count": 24,
   "id": "0971df4b",
   "metadata": {},
   "outputs": [
    {
     "name": "stdout",
     "output_type": "stream",
     "text": [
      "   roll no     name  total  obtain\n",
      "0        1    harsh    500     490\n",
      "1        2     ansh    500     400\n",
      "2        3    kevin    500     450\n",
      "3        4  avinash    500     460\n",
      "4        5    keyur    500     489\n"
     ]
    }
   ],
   "source": [
    "print(stmark.head())  # print of top marks"
   ]
  },
  {
   "cell_type": "code",
   "execution_count": 25,
   "id": "fd51c147",
   "metadata": {},
   "outputs": [
    {
     "name": "stdout",
     "output_type": "stream",
     "text": [
      "   roll no     name  total  obtain\n",
      "2        3    kevin    500     450\n",
      "3        4  avinash    500     460\n",
      "4        5    keyur    500     489\n",
      "5        6    paras    500     399\n",
      "6        7    arjun    500     444\n"
     ]
    }
   ],
   "source": [
    "print(stmark.tail())    # print to bottom marks"
   ]
  },
  {
   "cell_type": "code",
   "execution_count": 26,
   "id": "f2cc1fa7",
   "metadata": {},
   "outputs": [
    {
     "name": "stdout",
     "output_type": "stream",
     "text": [
      "   roll no     name  total  obtain\n",
      "0        1    harsh    500     490\n",
      "1        2     ansh    500     400\n",
      "2        3    kevin    500     450\n",
      "3        4  avinash    500     460\n",
      "4        5    keyur    500     489\n",
      "5        6    paras    500     399\n",
      "6        7    arjun    500     444\n"
     ]
    }
   ],
   "source": [
    "pd.options.display.max_rows=10\n",
    "stmark=pd.read_csv('demo.csv')\n",
    "print(stmark)"
   ]
  },
  {
   "cell_type": "code",
   "execution_count": 27,
   "id": "baef5527",
   "metadata": {},
   "outputs": [
    {
     "name": "stdout",
     "output_type": "stream",
     "text": [
      "<class 'pandas.core.frame.DataFrame'>\n",
      "RangeIndex: 7 entries, 0 to 6\n",
      "Data columns (total 4 columns):\n",
      " #   Column   Non-Null Count  Dtype \n",
      "---  ------   --------------  ----- \n",
      " 0   roll no  7 non-null      int64 \n",
      " 1   name     7 non-null      object\n",
      " 2   total    7 non-null      int64 \n",
      " 3   obtain   7 non-null      int64 \n",
      "dtypes: int64(3), object(1)\n",
      "memory usage: 352.0+ bytes\n",
      "None\n"
     ]
    }
   ],
   "source": [
    "print(stmark.info())   # information of csv file"
   ]
  },
  {
   "cell_type": "code",
   "execution_count": 31,
   "id": "4fbc834e",
   "metadata": {},
   "outputs": [
    {
     "name": "stdout",
     "output_type": "stream",
     "text": [
      "   roll no     name  total  obtain\n",
      "0        1    harsh    500   490.0\n",
      "2        3    kevin    500   450.0\n",
      "3        4  avinash    500   460.0\n",
      "4        5    keyur    500   489.0\n",
      "5        6    paras    500   399.0\n"
     ]
    }
   ],
   "source": [
    "new_stud=stmark.dropna()\n",
    "print(new_stud)"
   ]
  },
  {
   "cell_type": "code",
   "execution_count": 32,
   "id": "7fc84167",
   "metadata": {},
   "outputs": [
    {
     "name": "stdout",
     "output_type": "stream",
     "text": [
      "   roll no     name  total  obtain\n",
      "0        1    harsh    500   490.0\n",
      "1        2      222    500   400.0\n",
      "2        3    kevin    500   450.0\n",
      "3        4  avinash    500   460.0\n",
      "4        5    keyur    500   489.0\n",
      "5        6    paras    500   399.0\n",
      "6        7    arjun    500   222.0\n"
     ]
    }
   ],
   "source": [
    "fill_stud=stmark.fillna(222)\n",
    "print(fill_stud)"
   ]
  },
  {
   "cell_type": "code",
   "execution_count": 36,
   "id": "e1637c28",
   "metadata": {},
   "outputs": [
    {
     "name": "stdout",
     "output_type": "stream",
     "text": [
      "0    490.0\n",
      "1    400.0\n",
      "2    450.0\n",
      "3    460.0\n",
      "4    489.0\n",
      "5    399.0\n",
      "6    777.0\n",
      "Name: obtain, dtype: float64\n"
     ]
    }
   ],
   "source": [
    "stu1=stmark[\"obtain\"].fillna(777)\n",
    "print(stu1)"
   ]
  },
  {
   "cell_type": "code",
   "execution_count": 39,
   "id": "fc959dc8",
   "metadata": {},
   "outputs": [
    {
     "name": "stdout",
     "output_type": "stream",
     "text": [
      "   roll no     name  total  obtain\n",
      "0        1    harsh    500   490.0\n",
      "1        2      NaN    500   400.0\n",
      "2        3    kevin    500   450.0\n",
      "3        4  avinash    500   460.0\n",
      "4        5    keyur    500   489.0\n",
      "5        6    paras    500   399.0\n",
      "6        7    arjun    500   777.0\n"
     ]
    }
   ],
   "source": [
    "stmark[\"obtain\"].fillna(777,inplace=True)\n",
    "print(stmark)"
   ]
  },
  {
   "cell_type": "code",
   "execution_count": 45,
   "id": "80c7d7d7",
   "metadata": {},
   "outputs": [
    {
     "name": "stdout",
     "output_type": "stream",
     "text": [
      "   roll no     name  total  obtain\n",
      "0        1    harsh    500   490.0\n",
      "1        2      777    500   400.0\n",
      "2        3    kevin    500   450.0\n",
      "3        4  avinash    500   460.0\n",
      "4        5    keyur    500   489.0\n",
      "5        6    paras    500   399.0\n",
      "6        7    arjun    500   777.0\n"
     ]
    }
   ],
   "source": [
    "n=\"brijesh\"\n",
    "stmark[\"name\"].fillna(n,inplace=True)\n",
    "print(stmark)"
   ]
  },
  {
   "cell_type": "code",
   "execution_count": 47,
   "id": "e5b17e2b",
   "metadata": {},
   "outputs": [
    {
     "name": "stdout",
     "output_type": "stream",
     "text": [
      "495.0\n"
     ]
    }
   ],
   "source": [
    "mean=stmark[\"obtain\"].mean()\n",
    "print(mean)"
   ]
  },
  {
   "cell_type": "code",
   "execution_count": 54,
   "id": "0af11dd6",
   "metadata": {},
   "outputs": [
    {
     "name": "stdout",
     "output_type": "stream",
     "text": [
      "Median is:  460.0\n"
     ]
    }
   ],
   "source": [
    "median=stmark[\"obtain\"].median()\n",
    "print(\"Median is: \",median)"
   ]
  },
  {
   "cell_type": "code",
   "execution_count": 53,
   "id": "19b27fee",
   "metadata": {},
   "outputs": [
    {
     "name": "stdout",
     "output_type": "stream",
     "text": [
      "Mode is:  0    399.0\n",
      "1    400.0\n",
      "2    450.0\n",
      "3    460.0\n",
      "4    489.0\n",
      "5    490.0\n",
      "6    777.0\n",
      "Name: obtain, dtype: float64\n"
     ]
    }
   ],
   "source": [
    "mode=stmark[\"obtain\"].mode()\n",
    "print(\"Mode is: \",mode)"
   ]
  },
  {
   "cell_type": "code",
   "execution_count": 51,
   "id": "fa5f17e2",
   "metadata": {},
   "outputs": [
    {
     "data": {
      "text/plain": [
       "Index(['roll no', 'name', 'total', 'obtain'], dtype='object')"
      ]
     },
     "execution_count": 51,
     "metadata": {},
     "output_type": "execute_result"
    }
   ],
   "source": [
    "stmark.columns  # get column name is csv file"
   ]
  },
  {
   "cell_type": "code",
   "execution_count": 55,
   "id": "c1efa291",
   "metadata": {},
   "outputs": [
    {
     "name": "stdout",
     "output_type": "stream",
     "text": [
      "   roll no   name  total  obtain\n",
      "0        1  harsh    500   490.0\n",
      "1        2    777    500   400.0\n",
      "2        3  kevin    500   450.0\n"
     ]
    }
   ],
   "source": [
    "print(stmark.loc[0:2])   # print location "
   ]
  },
  {
   "cell_type": "code",
   "execution_count": 57,
   "id": "62a6c2be",
   "metadata": {},
   "outputs": [
    {
     "data": {
      "text/html": [
       "<div>\n",
       "<style scoped>\n",
       "    .dataframe tbody tr th:only-of-type {\n",
       "        vertical-align: middle;\n",
       "    }\n",
       "\n",
       "    .dataframe tbody tr th {\n",
       "        vertical-align: top;\n",
       "    }\n",
       "\n",
       "    .dataframe thead th {\n",
       "        text-align: right;\n",
       "    }\n",
       "</style>\n",
       "<table border=\"1\" class=\"dataframe\">\n",
       "  <thead>\n",
       "    <tr style=\"text-align: right;\">\n",
       "      <th></th>\n",
       "      <th>roll no</th>\n",
       "      <th>name</th>\n",
       "      <th>total</th>\n",
       "      <th>obtain</th>\n",
       "    </tr>\n",
       "  </thead>\n",
       "  <tbody>\n",
       "    <tr>\n",
       "      <th>6</th>\n",
       "      <td>7</td>\n",
       "      <td>arjun</td>\n",
       "      <td>500</td>\n",
       "      <td>777.0</td>\n",
       "    </tr>\n",
       "    <tr>\n",
       "      <th>0</th>\n",
       "      <td>1</td>\n",
       "      <td>harsh</td>\n",
       "      <td>500</td>\n",
       "      <td>490.0</td>\n",
       "    </tr>\n",
       "    <tr>\n",
       "      <th>4</th>\n",
       "      <td>5</td>\n",
       "      <td>keyur</td>\n",
       "      <td>500</td>\n",
       "      <td>489.0</td>\n",
       "    </tr>\n",
       "    <tr>\n",
       "      <th>3</th>\n",
       "      <td>4</td>\n",
       "      <td>avinash</td>\n",
       "      <td>500</td>\n",
       "      <td>460.0</td>\n",
       "    </tr>\n",
       "    <tr>\n",
       "      <th>2</th>\n",
       "      <td>3</td>\n",
       "      <td>kevin</td>\n",
       "      <td>500</td>\n",
       "      <td>450.0</td>\n",
       "    </tr>\n",
       "    <tr>\n",
       "      <th>1</th>\n",
       "      <td>2</td>\n",
       "      <td>777</td>\n",
       "      <td>500</td>\n",
       "      <td>400.0</td>\n",
       "    </tr>\n",
       "    <tr>\n",
       "      <th>5</th>\n",
       "      <td>6</td>\n",
       "      <td>paras</td>\n",
       "      <td>500</td>\n",
       "      <td>399.0</td>\n",
       "    </tr>\n",
       "  </tbody>\n",
       "</table>\n",
       "</div>"
      ],
      "text/plain": [
       "   roll no     name  total  obtain\n",
       "6        7    arjun    500   777.0\n",
       "0        1    harsh    500   490.0\n",
       "4        5    keyur    500   489.0\n",
       "3        4  avinash    500   460.0\n",
       "2        3    kevin    500   450.0\n",
       "1        2      777    500   400.0\n",
       "5        6    paras    500   399.0"
      ]
     },
     "execution_count": 57,
     "metadata": {},
     "output_type": "execute_result"
    }
   ],
   "source": [
    "stmark.sort_values([\"obtain\"],ascending=0)   # ascending value"
   ]
  },
  {
   "cell_type": "code",
   "execution_count": 60,
   "id": "0822d1d4",
   "metadata": {},
   "outputs": [
    {
     "data": {
      "text/html": [
       "<div>\n",
       "<style scoped>\n",
       "    .dataframe tbody tr th:only-of-type {\n",
       "        vertical-align: middle;\n",
       "    }\n",
       "\n",
       "    .dataframe tbody tr th {\n",
       "        vertical-align: top;\n",
       "    }\n",
       "\n",
       "    .dataframe thead th {\n",
       "        text-align: right;\n",
       "    }\n",
       "</style>\n",
       "<table border=\"1\" class=\"dataframe\">\n",
       "  <thead>\n",
       "    <tr style=\"text-align: right;\">\n",
       "      <th></th>\n",
       "      <th>roll no</th>\n",
       "      <th>name</th>\n",
       "      <th>total</th>\n",
       "      <th>obtain</th>\n",
       "    </tr>\n",
       "  </thead>\n",
       "  <tbody>\n",
       "    <tr>\n",
       "      <th>5</th>\n",
       "      <td>6</td>\n",
       "      <td>paras</td>\n",
       "      <td>500</td>\n",
       "      <td>399.0</td>\n",
       "    </tr>\n",
       "    <tr>\n",
       "      <th>1</th>\n",
       "      <td>2</td>\n",
       "      <td>777</td>\n",
       "      <td>500</td>\n",
       "      <td>400.0</td>\n",
       "    </tr>\n",
       "    <tr>\n",
       "      <th>2</th>\n",
       "      <td>3</td>\n",
       "      <td>kevin</td>\n",
       "      <td>500</td>\n",
       "      <td>450.0</td>\n",
       "    </tr>\n",
       "    <tr>\n",
       "      <th>3</th>\n",
       "      <td>4</td>\n",
       "      <td>avinash</td>\n",
       "      <td>500</td>\n",
       "      <td>460.0</td>\n",
       "    </tr>\n",
       "    <tr>\n",
       "      <th>4</th>\n",
       "      <td>5</td>\n",
       "      <td>keyur</td>\n",
       "      <td>500</td>\n",
       "      <td>489.0</td>\n",
       "    </tr>\n",
       "    <tr>\n",
       "      <th>0</th>\n",
       "      <td>1</td>\n",
       "      <td>harsh</td>\n",
       "      <td>500</td>\n",
       "      <td>490.0</td>\n",
       "    </tr>\n",
       "    <tr>\n",
       "      <th>6</th>\n",
       "      <td>7</td>\n",
       "      <td>arjun</td>\n",
       "      <td>500</td>\n",
       "      <td>777.0</td>\n",
       "    </tr>\n",
       "  </tbody>\n",
       "</table>\n",
       "</div>"
      ],
      "text/plain": [
       "   roll no     name  total  obtain\n",
       "5        6    paras    500   399.0\n",
       "1        2      777    500   400.0\n",
       "2        3    kevin    500   450.0\n",
       "3        4  avinash    500   460.0\n",
       "4        5    keyur    500   489.0\n",
       "0        1    harsh    500   490.0\n",
       "6        7    arjun    500   777.0"
      ]
     },
     "execution_count": 60,
     "metadata": {},
     "output_type": "execute_result"
    }
   ],
   "source": [
    "stmark.sort_values([\"obtain\"],ascending=1)  # desending value"
   ]
  },
  {
   "cell_type": "code",
   "execution_count": 62,
   "id": "1b473d2d",
   "metadata": {},
   "outputs": [
    {
     "data": {
      "text/html": [
       "<div>\n",
       "<style scoped>\n",
       "    .dataframe tbody tr th:only-of-type {\n",
       "        vertical-align: middle;\n",
       "    }\n",
       "\n",
       "    .dataframe tbody tr th {\n",
       "        vertical-align: top;\n",
       "    }\n",
       "\n",
       "    .dataframe thead th {\n",
       "        text-align: right;\n",
       "    }\n",
       "</style>\n",
       "<table border=\"1\" class=\"dataframe\">\n",
       "  <thead>\n",
       "    <tr style=\"text-align: right;\">\n",
       "      <th></th>\n",
       "      <th>roll no</th>\n",
       "      <th>name</th>\n",
       "      <th>total</th>\n",
       "      <th>obtain</th>\n",
       "      <th>percentage</th>\n",
       "      <th>Percentage</th>\n",
       "    </tr>\n",
       "  </thead>\n",
       "  <tbody>\n",
       "    <tr>\n",
       "      <th>0</th>\n",
       "      <td>1</td>\n",
       "      <td>harsh</td>\n",
       "      <td>500</td>\n",
       "      <td>490.0</td>\n",
       "      <td>98.0</td>\n",
       "      <td>98.0</td>\n",
       "    </tr>\n",
       "    <tr>\n",
       "      <th>1</th>\n",
       "      <td>2</td>\n",
       "      <td>777</td>\n",
       "      <td>500</td>\n",
       "      <td>400.0</td>\n",
       "      <td>80.0</td>\n",
       "      <td>80.0</td>\n",
       "    </tr>\n",
       "    <tr>\n",
       "      <th>2</th>\n",
       "      <td>3</td>\n",
       "      <td>kevin</td>\n",
       "      <td>500</td>\n",
       "      <td>450.0</td>\n",
       "      <td>90.0</td>\n",
       "      <td>90.0</td>\n",
       "    </tr>\n",
       "    <tr>\n",
       "      <th>3</th>\n",
       "      <td>4</td>\n",
       "      <td>avinash</td>\n",
       "      <td>500</td>\n",
       "      <td>460.0</td>\n",
       "      <td>92.0</td>\n",
       "      <td>92.0</td>\n",
       "    </tr>\n",
       "    <tr>\n",
       "      <th>4</th>\n",
       "      <td>5</td>\n",
       "      <td>keyur</td>\n",
       "      <td>500</td>\n",
       "      <td>489.0</td>\n",
       "      <td>97.8</td>\n",
       "      <td>97.8</td>\n",
       "    </tr>\n",
       "  </tbody>\n",
       "</table>\n",
       "</div>"
      ],
      "text/plain": [
       "   roll no     name  total  obtain  percentage  Percentage\n",
       "0        1    harsh    500   490.0        98.0        98.0\n",
       "1        2      777    500   400.0        80.0        80.0\n",
       "2        3    kevin    500   450.0        90.0        90.0\n",
       "3        4  avinash    500   460.0        92.0        92.0\n",
       "4        5    keyur    500   489.0        97.8        97.8"
      ]
     },
     "execution_count": 62,
     "metadata": {},
     "output_type": "execute_result"
    }
   ],
   "source": [
    "stmark['Percentage']=(stmark[\"obtain\"]/stmark[\"total\"])*100\n",
    "stmark.head(5)               # add percentage filed "
   ]
  },
  {
   "cell_type": "code",
   "execution_count": null,
   "id": "1608fab5",
   "metadata": {},
   "outputs": [],
   "source": []
  }
 ],
 "metadata": {
  "kernelspec": {
   "display_name": "Python 3 (ipykernel)",
   "language": "python",
   "name": "python3"
  },
  "language_info": {
   "codemirror_mode": {
    "name": "ipython",
    "version": 3
   },
   "file_extension": ".py",
   "mimetype": "text/x-python",
   "name": "python",
   "nbconvert_exporter": "python",
   "pygments_lexer": "ipython3",
   "version": "3.9.12"
  }
 },
 "nbformat": 4,
 "nbformat_minor": 5
}
